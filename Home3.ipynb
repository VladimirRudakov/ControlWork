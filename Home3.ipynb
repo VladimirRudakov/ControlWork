{
  "nbformat": 4,
  "nbformat_minor": 0,
  "metadata": {
    "colab": {
      "provenance": [],
      "authorship_tag": "ABX9TyNex3UEp1kfSup3ivgNCpwv",
      "include_colab_link": true
    },
    "kernelspec": {
      "name": "python3",
      "display_name": "Python 3"
    },
    "language_info": {
      "name": "python"
    }
  },
  "cells": [
    {
      "cell_type": "markdown",
      "metadata": {
        "id": "view-in-github",
        "colab_type": "text"
      },
      "source": [
        "<a href=\"https://colab.research.google.com/github/VladimirRudakov/ControlWork/blob/main/Home3.ipynb\" target=\"_parent\"><img src=\"https://colab.research.google.com/assets/colab-badge.svg\" alt=\"Open In Colab\"/></a>"
      ]
    },
    {
      "cell_type": "code",
      "execution_count": 1,
      "metadata": {
        "colab": {
          "base_uri": "https://localhost:8080/"
        },
        "id": "ZNO_88_M9afw",
        "outputId": "0dc44022-95f0-4c9b-c12b-f947bf745754"
      },
      "outputs": [
        {
          "output_type": "stream",
          "name": "stdout",
          "text": [
            "Collecting pyspark\n",
            "  Downloading pyspark-3.5.1.tar.gz (317.0 MB)\n",
            "\u001b[2K     \u001b[90m━━━━━━━━━━━━━━━━━━━━━━━━━━━━━━━━━━━━━━━━\u001b[0m \u001b[32m317.0/317.0 MB\u001b[0m \u001b[31m2.9 MB/s\u001b[0m eta \u001b[36m0:00:00\u001b[0m\n",
            "\u001b[?25h  Preparing metadata (setup.py) ... \u001b[?25l\u001b[?25hdone\n",
            "Requirement already satisfied: py4j==0.10.9.7 in /usr/local/lib/python3.10/dist-packages (from pyspark) (0.10.9.7)\n",
            "Building wheels for collected packages: pyspark\n",
            "  Building wheel for pyspark (setup.py) ... \u001b[?25l\u001b[?25hdone\n",
            "  Created wheel for pyspark: filename=pyspark-3.5.1-py2.py3-none-any.whl size=317488491 sha256=4aa75d9977d916dea7aa4f5ef725e2f91e836a24175cffba98d25051c11c60e6\n",
            "  Stored in directory: /root/.cache/pip/wheels/80/1d/60/2c256ed38dddce2fdd93be545214a63e02fbd8d74fb0b7f3a6\n",
            "Successfully built pyspark\n",
            "Installing collected packages: pyspark\n",
            "Successfully installed pyspark-3.5.1\n"
          ]
        }
      ],
      "source": [
        "pip install pyspark"
      ]
    },
    {
      "cell_type": "code",
      "source": [
        "from pyspark.sql import SparkSession\n",
        "from pyspark.sql.functions import col, when\n",
        "from pyspark.sql.types import IntegerType\n",
        "\n",
        "# Создание сессии Spark\n",
        "spark = SparkSession.builder.appName(\"Sum of Odd Numbers\").getOrCreate()\n",
        "\n",
        "# Предположим, что у нас есть DataFrame `df` с числовыми столбцами\n",
        "# Здесь представлен пример DataFrame с двумя столбцами:\n",
        "data = [(1, 2), (3, 4), (5, 6), (7, 8), (9, 10)]\n",
        "df = spark.createDataFrame(data, [\"column1\", \"column2\"])\n",
        "\n",
        "# Функция для суммирования нечетных чисел в ряду\n",
        "def sum_odds(*cols):\n",
        "    return sum(when(col(c) % 2 != 0, col(c)).otherwise(0) for c in cols)\n",
        "\n",
        "# Добавление нового столбца 'sum_of_odds' с суммой нечетных чисел\n",
        "df = df.withColumn(\"sum_of_odds\", sum_odds(\"column1\", \"column2\"))\n",
        "\n",
        "# Показать результат\n",
        "df.show()\n"
      ],
      "metadata": {
        "colab": {
          "base_uri": "https://localhost:8080/"
        },
        "id": "hhUjysJf9vxN",
        "outputId": "c2d692b1-0546-4040-9483-48d2d3ad5fb1"
      },
      "execution_count": 2,
      "outputs": [
        {
          "output_type": "stream",
          "name": "stdout",
          "text": [
            "+-------+-------+-----------+\n",
            "|column1|column2|sum_of_odds|\n",
            "+-------+-------+-----------+\n",
            "|      1|      2|          1|\n",
            "|      3|      4|          3|\n",
            "|      5|      6|          5|\n",
            "|      7|      8|          7|\n",
            "|      9|     10|          9|\n",
            "+-------+-------+-----------+\n",
            "\n"
          ]
        }
      ]
    }
  ]
}