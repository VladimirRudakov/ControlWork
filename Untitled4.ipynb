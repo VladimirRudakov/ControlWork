{
  "nbformat": 4,
  "nbformat_minor": 0,
  "metadata": {
    "colab": {
      "provenance": [],
      "authorship_tag": "ABX9TyNV4wjlTdllaVROFQUSy9wq",
      "include_colab_link": true
    },
    "kernelspec": {
      "name": "python3",
      "display_name": "Python 3"
    },
    "language_info": {
      "name": "python"
    }
  },
  "cells": [
    {
      "cell_type": "markdown",
      "metadata": {
        "id": "view-in-github",
        "colab_type": "text"
      },
      "source": [
        "<a href=\"https://colab.research.google.com/github/VladimirRudakov/ControlWork/blob/main/Untitled4.ipynb\" target=\"_parent\"><img src=\"https://colab.research.google.com/assets/colab-badge.svg\" alt=\"Open In Colab\"/></a>"
      ]
    },
    {
      "cell_type": "code",
      "execution_count": null,
      "metadata": {
        "colab": {
          "base_uri": "https://localhost:8080/"
        },
        "id": "8MndLhTCYhYf",
        "outputId": "28cba1c7-c56a-411b-c983-fce13f45161b"
      },
      "outputs": [
        {
          "output_type": "stream",
          "name": "stdout",
          "text": [
            "Collecting pyspark\n",
            "  Downloading pyspark-3.5.1.tar.gz (317.0 MB)\n",
            "\u001b[2K     \u001b[90m━━━━━━━━━━━━━━━━━━━━━━━━━━━━━━━━━━━━━━━━\u001b[0m \u001b[32m317.0/317.0 MB\u001b[0m \u001b[31m2.6 MB/s\u001b[0m eta \u001b[36m0:00:00\u001b[0m\n",
            "\u001b[?25h  Preparing metadata (setup.py) ... \u001b[?25l\u001b[?25hdone\n",
            "Requirement already satisfied: py4j==0.10.9.7 in /usr/local/lib/python3.10/dist-packages (from pyspark) (0.10.9.7)\n",
            "Building wheels for collected packages: pyspark\n",
            "  Building wheel for pyspark (setup.py) ... \u001b[?25l\u001b[?25hdone\n",
            "  Created wheel for pyspark: filename=pyspark-3.5.1-py2.py3-none-any.whl size=317488491 sha256=5794da3910c8e57ab106e725c3ac99655f3f6a3881b3e39c04e0587622d6230c\n",
            "  Stored in directory: /root/.cache/pip/wheels/80/1d/60/2c256ed38dddce2fdd93be545214a63e02fbd8d74fb0b7f3a6\n",
            "Successfully built pyspark\n",
            "Installing collected packages: pyspark\n",
            "Successfully installed pyspark-3.5.1\n"
          ]
        }
      ],
      "source": [
        "!pip install pyspark"
      ]
    },
    {
      "cell_type": "code",
      "source": [
        "from pyspark import SparkContext\n",
        "\n",
        "# Инициализация SparkContext\n",
        "sc = SparkContext()\n",
        "\n",
        "# Создаем пример RDD\n",
        "rdd = sc.parallelize([1, 2, 5, 4, 3, 8, 7, 6, 10, 11, 14, 13, 12])\n",
        "\n",
        "# Определяем функцию для нахождения последовательностей\n",
        "def find_sequences(partition):\n",
        "    sequences = []\n",
        "    current_sequence = []\n",
        "\n",
        "    for num in partition:\n",
        "        if not current_sequence or num == current_sequence[-1] + 1:\n",
        "            current_sequence.append(num)\n",
        "        else:\n",
        "            if len(current_sequence) > 1:  # Исключаем последовательности из одного числа\n",
        "                sequences.append(current_sequence)\n",
        "            current_sequence = [num]\n",
        "    if len(current_sequence) > 1:  # Не забываем о последней последовательности\n",
        "        sequences.append(current_sequence)\n",
        "\n",
        "    return sequences\n",
        "\n",
        "# Отсортируем RDD и применим нашу функцию\n",
        "sorted_rdd = rdd.sortBy(lambda x: x)\n",
        "sequences_rdd = sorted_rdd.mapPartitions(find_sequences)\n",
        "\n",
        "# Найдем самую длинную последовательность\n",
        "longest_sequence = sequences_rdd.reduce(lambda x, y: x if len(x) > len(y) else y)\n",
        "\n",
        "# Результат\n",
        "print(longest_sequence)\n",
        "\n",
        "# Закрываем SparkContext после выполнения\n",
        "sc.stop()\n"
      ],
      "metadata": {
        "colab": {
          "base_uri": "https://localhost:8080/"
        },
        "id": "bzWqbWfZYnYP",
        "outputId": "28ad6bda-c7a1-4299-d146-14e047b18a1a"
      },
      "execution_count": null,
      "outputs": [
        {
          "output_type": "stream",
          "name": "stdout",
          "text": [
            "[1, 2, 3, 4, 5, 6, 7]\n"
          ]
        }
      ]
    }
  ]
}