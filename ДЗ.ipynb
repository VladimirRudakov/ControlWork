{
  "nbformat": 4,
  "nbformat_minor": 0,
  "metadata": {
    "colab": {
      "provenance": [],
      "authorship_tag": "ABX9TyMZPBLYJwjBq0KXhcOTBA1h",
      "include_colab_link": true
    },
    "kernelspec": {
      "name": "python3",
      "display_name": "Python 3"
    },
    "language_info": {
      "name": "python"
    }
  },
  "cells": [
    {
      "cell_type": "markdown",
      "metadata": {
        "id": "view-in-github",
        "colab_type": "text"
      },
      "source": [
        "<a href=\"https://colab.research.google.com/github/VladimirRudakov/ControlWork/blob/main/%D0%94%D0%97.ipynb\" target=\"_parent\"><img src=\"https://colab.research.google.com/assets/colab-badge.svg\" alt=\"Open In Colab\"/></a>"
      ]
    },
    {
      "cell_type": "code",
      "source": [
        "from pyspark.sql import SparkSession\n",
        "from pyspark.sql.functions import expr\n",
        "\n",
        "# Инициализируем SparkSession\n",
        "spark = SparkSession.builder.master(\"local[*]\").appName(\"Sum of odd numbers\").getOrCreate()\n",
        "\n",
        "# Создаем DataFrame с использованием функции range\n",
        "df = spark.range(10).toDF(\"number\")\n",
        "\n",
        "# Функция для расчета суммы нечетных чисел\n",
        "def sum_of_odds(n):\n",
        "    return sum(i for i in range(1, n + 1) if i % 2 != 0)\n",
        "\n",
        "# Регистрируем функцию как UDF (user-defined function)\n",
        "sum_of_odds_udf = spark.udf.register(\"sum_of_odds_udf\", sum_of_odds)\n",
        "\n",
        "# Добавляем новый столбец с использованием UDF\n",
        "df_with_odds = df.withColumn(\"sum_of_odds\", sum_of_odds_udf(\"number\"))\n",
        "\n",
        "# Показываем результат\n",
        "df_with_odds.show()\n"
      ],
      "metadata": {
        "colab": {
          "base_uri": "https://localhost:8080/"
        },
        "id": "q9HHqfsEFszE",
        "outputId": "43b797ad-9e1e-4a91-a421-cf1fc7837b24"
      },
      "execution_count": 3,
      "outputs": [
        {
          "output_type": "stream",
          "name": "stdout",
          "text": [
            "+------+-----------+\n",
            "|number|sum_of_odds|\n",
            "+------+-----------+\n",
            "|     0|          0|\n",
            "|     1|          1|\n",
            "|     2|          1|\n",
            "|     3|          4|\n",
            "|     4|          4|\n",
            "|     5|          9|\n",
            "|     6|          9|\n",
            "|     7|         16|\n",
            "|     8|         16|\n",
            "|     9|         25|\n",
            "+------+-----------+\n",
            "\n"
          ]
        }
      ]
    }
  ]
}